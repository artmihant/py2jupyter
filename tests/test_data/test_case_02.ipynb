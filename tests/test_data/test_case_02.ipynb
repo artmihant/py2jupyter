{
 "cells": [
  {
   "cell_type": "markdown",
   "metadata": {},
   "source": [
    "# Тест функций и классов #"
   ]
  },
  {
   "cell_type": "markdown",
   "metadata": {},
   "source": [
    "Этот файл тестирует конвертацию функций и классов в отдельные ячейки."
   ]
  },
  {
   "cell_type": "code",
   "execution_count": null,
   "metadata": {},
   "outputs": [],
   "source": [
    "import math"
   ]
  },
  {
   "cell_type": "code",
   "execution_count": null,
   "metadata": {},
   "outputs": [],
   "source": [
    "def calculate_area(radius):",
    "    \"\"\"Вычисляет площадь круга\"\"\"",
    "    return math.pi * radius ** 2"
   ]
  },
  {
   "cell_type": "code",
   "execution_count": null,
   "metadata": {},
   "outputs": [],
   "source": [
    "class Circle:",
    "    \"\"\"Класс для работы с кругами\"\"\"",
    "",
    "    def __init__(self, radius):",
    "        self.radius = radius",
    "",
    "    def get_area(self):",
    "        return calculate_area(self.radius)"
   ]
  },
  {
   "cell_type": "code",
   "execution_count": null,
   "metadata": {},
   "outputs": [],
   "source": [
    "# Тестовый код",
    "if __name__ == \"__main__\":",
    "    circle = Circle(5)",
    "    print(f\"Area: {circle.get_area()}\")"
   ]
  }
 ],
 "metadata": {
  "kernelspec": {
   "display_name": "Python 3",
   "language": "python",
   "name": "python3"
  },
  "language_info": {
   "name": "python",
   "version": "3.8.5"
  }
 },
 "nbformat": 4,
 "nbformat_minor": 2
}